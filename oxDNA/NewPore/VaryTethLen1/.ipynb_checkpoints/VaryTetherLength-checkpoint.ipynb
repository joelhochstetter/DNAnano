{
 "cells": [
  {
   "cell_type": "markdown",
   "metadata": {},
   "source": [
    "# Simulating pore with varying tether length\n",
    "The basic set-up of these simulations is that I simulate the motion of the pore (190604_TC_pore_cinch1.json) and the tether when the ends of the tether are fixed. Essentially this is simulating the motion of the pore relative to the barrel. For these simulations I change the number of nucleotides in the tether. The cinches / connectors are excluded from these simulations.\n",
    "\n",
    "The end nucleotides of the tether are fixed at a distance of $19.6\\,$nm apart corresponding to the inner diameter of the barrel. The barrel was simulated by force planes of 8 force planes arranged to form a regular Octagon, when viewed from above. This is an approximation to a cylinder of diameter $19.6\\,$nm.\n",
    "\n",
    "When I refer to the length of the tether I mean the number of nucleotides between where the tether joins the pore and where the tether joins the barrel. The total number of nucleotides in the tether is double this.\n",
    "\n",
    "The lengths of simulations are quite short at the moment as I have just been using my personal machine but next I will run on a cluster to simulate longer time-scales. Essentially, these results are a proof of concept of what I kind of analysis we can do. \n",
    "\n",
    "At this stage I am simulating with the following parameters:\n",
    "- Length of simulation $0.03\\,$ms.\n",
    "- Molecular Dynamics simulations are performed (the other option is Monte Carlo)\n",
    "- Temperature $300\\,$K\n",
    "- Salt concentration $0.5\\,$M\n",
    "\n",
    "Other than this I use the default oxDNA model and parameters described here (https://dna.physics.ox.ac.uk/index.php/DNA_model_introduction).\n",
    "\n",
    "The layout of this document is a simple analysis of the distribution of positions and velocities of the pore inside the barrel. This is supported by snapshots of the simulations and simple movies. You can ignore the code I use to produce the figures and simply look at the figures, videos and my brief discussions surrounding them."
   ]
  },
  {
   "cell_type": "code",
   "execution_count": null,
   "metadata": {
    "collapsed": true
   },
   "outputs": [],
   "source": []
  },
  {
   "cell_type": "code",
   "execution_count": null,
   "metadata": {
    "collapsed": true
   },
   "outputs": [],
   "source": []
  },
  {
   "cell_type": "markdown",
   "metadata": {},
   "source": [
    "# Future work\n",
    "- I was using random sequences so I can try varying the tether sequence to avoid hairpins that were observed in some simulations. \n",
    "- Also soon I will try this with cinches / handles to see if I can explain why the cinches weren't very effective. "
   ]
  }
 ],
 "metadata": {
  "anaconda-cloud": {},
  "kernelspec": {
   "display_name": "Python [conda env:anaconda3]",
   "language": "python",
   "name": "conda-env-anaconda3-py"
  },
  "language_info": {
   "codemirror_mode": {
    "name": "ipython",
    "version": 3
   },
   "file_extension": ".py",
   "mimetype": "text/x-python",
   "name": "python",
   "nbconvert_exporter": "python",
   "pygments_lexer": "ipython3",
   "version": "3.5.6"
  }
 },
 "nbformat": 4,
 "nbformat_minor": 1
}
