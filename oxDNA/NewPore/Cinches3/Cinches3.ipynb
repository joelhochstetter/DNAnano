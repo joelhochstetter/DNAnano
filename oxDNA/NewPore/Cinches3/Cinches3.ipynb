{
 "cells": [
  {
   "cell_type": "markdown",
   "metadata": {},
   "source": [
    "# Simulating pore with varying tether length and sequences"
   ]
  },
  {
   "cell_type": "code",
   "execution_count": 1,
   "metadata": {},
   "outputs": [
    {
     "data": {
      "application/javascript": [
       "IPython.OutputArea.prototype._should_scroll = function(lines) {\n",
       "    return false;\n",
       "}\n"
      ],
      "text/plain": [
       "<IPython.core.display.Javascript object>"
      ]
     },
     "metadata": {},
     "output_type": "display_data"
    }
   ],
   "source": [
    "%%javascript\n",
    "IPython.OutputArea.prototype._should_scroll = function(lines) {\n",
    "    return false;\n",
    "}"
   ]
  },
  {
   "cell_type": "code",
   "execution_count": 5,
   "metadata": {},
   "outputs": [
    {
     "data": {
      "text/plain": [
       "18.007052"
      ]
     },
     "execution_count": 5,
     "metadata": {},
     "output_type": "execute_result"
    }
   ],
   "source": [
    "(60.57 - 39.43)*0.8518"
   ]
  },
  {
   "cell_type": "code",
   "execution_count": 2,
   "metadata": {},
   "outputs": [],
   "source": [
    "'''\n",
    "Initialise functions for plotting and processing data\n",
    "'''\n",
    "\n",
    "%matplotlib inline\n",
    "import numpy as np\n",
    "import matplotlib.pyplot as plt\n",
    "from IPython.display import Video\n",
    "\n",
    "\n",
    "#centre of barrel\n",
    "xc = (60.57 + 39.43)/2\n",
    "yc = 50\n",
    "zc = 69.96\n",
    "lengthToNm = 0.8518 \n",
    "timeTons   = 3.03e-3\n",
    "barHeight = 61.05\n",
    "\n",
    "connShift = [0, 168, 180, 220]\n",
    "\n",
    "\n",
    "def getPoreNt(teth_len, numConn = 0):\n",
    "    scaf_start = 0 + connShift[numConn]\n",
    "    scaf_end   = 593-40 + teth_len*2\n",
    "    return np.arange(teth_len + scaf_start, scaf_end - teth_len)\n",
    "    \n",
    "    \n",
    "def getTopNt(teth_len, numConn = 0):\n",
    "    return teth_len + connShift[numConn]\n",
    "    \n",
    "def getMidNt(teth_len, numConn = 0):\n",
    "    return teth_len + 44 + connShift[numConn]\n",
    "\n",
    "def getBotNt(teth_len, numConn = 0):\n",
    "    return teth_len + 89 + connShift[numConn]\n",
    "    \n",
    "    \n",
    "def RMS(x, y, z):\n",
    "    #takes a vector (e.g. velocity) broken into components x,y,z and returns the RMS value\n",
    "    return np.sqrt(x**2 + y**2 + z**2)\n",
    "\n",
    "\n",
    "def getPosition(data, nt, pos, vel, rot):\n",
    "    #takes data and returns position in nm relative to centre of barrel\n",
    "    xpos = data[:,0 + 3*nt*(pos + vel + rot)] \n",
    "    ypos = data[:,1 + 3*nt*(pos + vel + rot)] \n",
    "    zpos = data[:,2 + 3*nt*(pos + vel + rot)] \n",
    "    xpos = (xpos - xc)*lengthToNm\n",
    "    ypos = (ypos - yc)*lengthToNm\n",
    "    zpos = (zpos - zc)*lengthToNm\n",
    "    \n",
    "    if np.ndim(xpos) == 2:\n",
    "        posV = np.zeros([3, np.shape(xpos)[0], np.shape(xpos)[1]])\n",
    "        posV[0,:,:] = xpos\n",
    "        posV[1,:,:] = ypos\n",
    "        posV[2,:,:] = zpos         \n",
    "    else:\n",
    "        posV = np.zeros([3, np.shape(xpos)[0]])\n",
    "        posV[0,:] = xpos\n",
    "        posV[1,:] = ypos\n",
    "        posV[2,:] = zpos \n",
    "\n",
    "    return posV #np.array([xpos, ypos, zpos])\n",
    "\n",
    "def getVelocity(data, nt, pos, vel, rot):\n",
    "    #takes data and returns velocity in nm/ns relative to centre of barrel\n",
    "    xvel = data[:,3 + 3*nt*(pos + vel + rot)] \n",
    "    yvel = data[:,4 + 3*nt*(pos + vel + rot)] \n",
    "    zvel = data[:,5 + 3*nt*(pos + vel + rot)] \n",
    "    xvel = xvel*lengthToNm/timeTons\n",
    "    yvel = yvel*lengthToNm/timeTons\n",
    "    zvel = zvel*lengthToNm/timeTons\n",
    "    return [xvel, yvel, zvel]\n",
    "\n",
    "\n",
    "def getAngularV(data, nt, pos, vel, rot):\n",
    "    #takes data and returns angular velocity in 1/ns relative to centre of barrel\n",
    "    xrot = data[:,6 + 3*nt*(pos + vel + rot)] \n",
    "    yrot = data[:,7 + 3*nt*(pos + vel + rot)] \n",
    "    zrot = data[:,8 + 3*nt*(pos + vel + rot)] \n",
    "    xrot = xrot/timeTons/np.pi*180\n",
    "    yrot = yrot/timeTons/np.pi*180\n",
    "    zrot = zrot/timeTons/np.pi*180\n",
    "    return [xrot, yrot, zrot]\n",
    "\n",
    "\n",
    "def takeMean(Vec):\n",
    "    if type(Vec) == list:\n",
    "        sz = len(Vec)\n",
    "    else:\n",
    "        sz = np.shape(Vec)[0]\n",
    "    out = []\n",
    "    #given a list takes the mean along each coordinate\n",
    "    for i in range(sz):\n",
    "        out.append(np.mean(Vec[i],1))\n",
    "    return out\n",
    "\n",
    "\n",
    "def takeMin(Vec):\n",
    "    if type(Vec) == list:\n",
    "        sz = len(Vec)\n",
    "    else:\n",
    "        sz = np.shape(Vec)[0]  \n",
    "    out = []\n",
    "    for i in range(sz):\n",
    "        out.append(np.array(Vec[i]).min(1))\n",
    "    return out\n",
    "    \n",
    "    \n",
    "    \n",
    "    \n",
    "def takeMax(Vec): \n",
    "    if type(Vec) == list:\n",
    "        sz = len(Vec)\n",
    "    else:\n",
    "        sz = np.shape(Vec)[0]\n",
    "    out = []\n",
    "    for i in range(sz):\n",
    "        out.append(np.array(Vec[i]).max(1))\n",
    "    return out\n",
    "\n",
    "def cartToCyl(x,y,z):\n",
    "    #converts Cartesian coords to cylindrical coordinates in degrees\n",
    "    r     = np.sqrt(x**2 + y**2)\n",
    "    theta = np.arctan2(posV[1], posV[0])/np.pi*180\n",
    "    return [r, theta, z]\n",
    "\n",
    "\n",
    "def plotPositionHist(posV, pType = 'z', title = None, vline = None, legend = []):\n",
    "    '''\n",
    "    plots the histogram of a spatial or angular coordinate\n",
    "    posV is the position vector\n",
    "    pType = 'x', 'y', 'z', 't' (theta), 'r' (radial)\n",
    "    '''   \n",
    "    \n",
    "    if type(posV) == list:\n",
    "        posList = posV\n",
    "    else:        \n",
    "        posList = [posV]\n",
    " \n",
    "    if len(legend) == 0:\n",
    "        legend = list(pType*len(posList))\n",
    "\n",
    "    plt.figure()\n",
    "    plt.xlabel('Position (nm)')\n",
    "    \n",
    "    for i in range(len(posList)):\n",
    "        posV = posList[i]\n",
    "        if pType == 'x':\n",
    "            pos = posV[0]\n",
    "            plt.title('Histogram of location of pore - x-position')\n",
    "        elif pType == 'y':\n",
    "            pos = posV[1]\n",
    "            plt.title('Histogram of location of pore - y-position')        \n",
    "        elif pType == 'z':\n",
    "            pos = posV[2]\n",
    "            plt.title('Histogram of location of pore - z-position')\n",
    "        elif pType == 'r':\n",
    "            pos = np.sqrt(posV[0]**2 + posV[1]**2)\n",
    "            plt.title('Histogram of location of pore - r-position')\n",
    "            plt.xlabel('Radial distance from centre of pore (nm)')\n",
    "        elif pType == 't':\n",
    "            pos = np.arctan2(posV[1], posV[0])/np.pi*180     \n",
    "            plt.title('Histogram of location of pore - angular distance of pore in barrel')\n",
    "            plt.xlabel('Angular distance of pore in barrel (degrees)')\n",
    "\n",
    "        plt.hist(pos, density = True, bins = int(np.sqrt(len(pos))), label = legend[i], histtype=u'step')\n",
    "\n",
    "    if title is not None:\n",
    "        plt.title(title)\n",
    "    xmin, xmax, ymin, ymax = plt.axis()    \n",
    "    if vline is not None:\n",
    "        plt.vlines(vline, 0, ymax, 'k')\n",
    "    plt.ylabel('Probability density')\n",
    "    plt.legend()\n",
    "    plt.show()\n",
    "    \n",
    "    \n",
    "def plotRMSHist(Vec, pType = 'vel'):\n",
    "    '''\n",
    "    plots the histogram of a spatial or angular coordinate\n",
    "    Vec is a vector: either position, velocity or angular velocity\n",
    "    pType = 'pos', 'vel', 'rot'\n",
    "    '''       \n",
    "    RMSVec = RMS(Vec[0], Vec[1], Vec[2])\n",
    "    plt.figure()\n",
    "    plt.hist(RMSVec, density = True)\n",
    "    plt.ylabel('Probability density')\n",
    "\n",
    "    if pType == 'pos':\n",
    "        plt.xlabel('Average root mean squared position (nm)')\n",
    "        plt.title('Histogram of average root mean squared position')\n",
    "    elif pType == 'vel':\n",
    "        plt.xlabel('Average root mean squared velocity (nm/ns)')\n",
    "        plt.title('Histogram of average root mean squared velocity')\n",
    "    elif pType == 'rot':\n",
    "        plt.xlabel('Average root mean squared angular velocity (degrees/ns)')\n",
    "        plt.title('Histogram of average root mean squared angular velocity')\n",
    "    plt.show()\n",
    " \n",
    "\n",
    "def plotMeanStdPair(xval, Means, Stds, ylabel1 = '', ylabel2 = '', xlabel = 'Tether length (bp)', title = ''):\n",
    "    plt.figure()\n",
    "    fig, ax1 = plt.subplots()\n",
    "    ax1.set_xlabel(xlabel)\n",
    "    ax1.set_ylabel(ylabel1, color='b')\n",
    "    ax1.plot(xval, Means, 'bo')\n",
    "    ax1.tick_params(axis='y', labelcolor='b')\n",
    "    \n",
    "    ax2 = ax1.twinx()\n",
    "    ax2.set_ylabel(ylabel2, color='r')  \n",
    "    ax2.tick_params(axis='y', labelcolor='r')\n",
    "    ax2.plot(xval, Stds, 'rx')\n",
    "    plt.title(title)\n",
    "    fig.tight_layout() \n",
    "    plt.show()\n",
    "    \n",
    "#plot mean-standard deviation pair with error bars\n",
    "def plotMeanStdEB(xval, Means, Stds, ylabel = '', xlabel = 'Tether length (bp)', title = '', legend = [], hline = None, vline = None):\n",
    "    plt.figure()\n",
    "    plt.xlabel(xlabel)\n",
    "    plt.ylabel(ylabel)\n",
    "    shapes = ['o', '^', 'D', '*', 's', 'p', 'h']\n",
    "    if np.ndim(Means) == 1:\n",
    "        plt.errorbar(xval, Means, Stds, fmt='bo:', label = legend[0])\n",
    "    else:\n",
    "        for i in range(np.shape(Means)[1]):\n",
    "            plt.errorbar(xval, Means[:,i], Stds[:,i], fmt=shapes[i] + ':', label = legend[i])\n",
    "    \n",
    "    if hline is not None:\n",
    "        plt.hlines(hline, xval[0], xval[-1], linestyles='dashed')\n",
    "    \n",
    "    xmin, xmax, ymin, ymax = plt.axis()\n",
    "    if vline is not None:\n",
    "        plt.vlines(vline, ymin, ymax, linestyles='dashed')\n",
    "\n",
    "    plt.title(title)\n",
    "    plt.legend()\n",
    "    plt.show()    \n",
    "\n",
    "    \n",
    "#plot mean-standard deviation pair with error bars inverse\n",
    "def plotMeanStdEBInverse(xval, Means, Stds, ylabel = '', xlabel = 'Tether length (bp)', title = '', legend = [], hline = None, vline = None):\n",
    "    plt.figure()\n",
    "    plt.xlabel(xlabel)\n",
    "    plt.ylabel(ylabel)\n",
    "    shapes = ['o', '^', 'D', '*', 's', 'p', 'h']\n",
    "    if np.ndim(Means) == 1:\n",
    "        plt.errorbar(xval, Means, Stds, fmt='bo:', label = legend[0])\n",
    "    else:\n",
    "        for i in range(np.shape(Means)[0]):\n",
    "            plt.errorbar(legend, Means[i,:], Stds[i,:], fmt=shapes[i] + ':', label = xval[i])\n",
    "    \n",
    "    if hline is not None:\n",
    "        plt.hlines(hline, legend[0], legend[-1], linestyles='dashed')\n",
    "    \n",
    "    xmin, xmax, ymin, ymax = plt.axis()\n",
    "    if vline is not None:\n",
    "        plt.vlines(vline, ymin, ymax, linestyles='dashed')\n",
    "\n",
    "    plt.title(title)\n",
    "    plt.legend()\n",
    "    plt.show()        "
   ]
  },
  {
   "cell_type": "code",
   "execution_count": 4,
   "metadata": {},
   "outputs": [
    {
     "name": "stdout",
     "output_type": "stream",
     "text": [
      "Now processing : cinch0, seed: 0\n",
      "Now processing : cinch0, seed: 1\n",
      "Now processing : cinch0, seed: 2\n",
      "Now processing : cinch0, seed: 3\n",
      "Now processing : cinch0, seed: 4\n",
      "Now processing : cinch1, seed: 0\n",
      "Now processing : cinch1, seed: 1\n",
      "Now processing : cinch1, seed: 2\n",
      "Now processing : cinch1, seed: 3\n",
      "Now processing : cinch1, seed: 4\n",
      "Now processing : cinch2, seed: 0\n",
      "Now processing : cinch2, seed: 1\n",
      "Now processing : cinch2, seed: 2\n",
      "Now processing : cinch2, seed: 3\n",
      "Now processing : cinch2, seed: 4\n",
      "Now processing : cinch3, seed: 0\n",
      "Now processing : cinch3, seed: 1\n",
      "Now processing : cinch3, seed: 2\n",
      "Now processing : cinch3, seed: 3\n",
      "Now processing : cinch3, seed: 4\n",
      "Now processing : cinch4, seed: 0\n",
      "Now processing : cinch4, seed: 1\n",
      "Now processing : cinch4, seed: 2\n",
      "Now processing : cinch4, seed: 3\n",
      "Now processing : cinch4, seed: 4\n",
      "Now processing : cinch5, seed: 0\n",
      "Now processing : cinch5, seed: 1\n",
      "Now processing : cinch5, seed: 2\n",
      "Now processing : cinch5, seed: 3\n",
      "Now processing : cinch5, seed: 4\n",
      "Now processing : cinch6, seed: 0\n",
      "Now processing : cinch6, seed: 1\n",
      "Now processing : cinch6, seed: 2\n",
      "Now processing : cinch6, seed: 3\n",
      "Now processing : cinch6, seed: 4\n",
      "Now processing : cinch7, seed: 0\n",
      "Now processing : cinch7, seed: 1\n",
      "Now processing : cinch7, seed: 2\n",
      "Now processing : cinch7, seed: 3\n",
      "Now processing : cinch7, seed: 4\n",
      "Finished processing\n"
     ]
    }
   ],
   "source": [
    "'''\n",
    "Loop over data\n",
    "'''\n",
    "\n",
    "N = 8\n",
    "M = 5\n",
    "\n",
    "s = 0\n",
    "\n",
    "poreEnd = 43\n",
    "topEnd  = 9\n",
    "\n",
    "ave_z   = np.zeros([N,M])\n",
    "ave_r   = np.zeros([N,M])\n",
    "ave_th  = np.zeros([N,M])\n",
    "std_z   = np.zeros([N,M])\n",
    "std_r   = np.zeros([N,M])\n",
    "std_th  = np.zeros([N,M])\n",
    "\n",
    "ave_top_z   = np.zeros([N,M])\n",
    "ave_top_r   = np.zeros([N,M])\n",
    "ave_top_th  = np.zeros([N,M])\n",
    "std_top_z   = np.zeros([N,M])\n",
    "std_top_r   = np.zeros([N,M])\n",
    "std_top_th  = np.zeros([N,M])\n",
    "\n",
    "ave_mid_z   = np.zeros([N,M])\n",
    "ave_mid_r   = np.zeros([N,M])\n",
    "ave_mid_th  = np.zeros([N,M])\n",
    "std_mid_z   = np.zeros([N,M])\n",
    "std_mid_r   = np.zeros([N,M])\n",
    "std_mid_th  = np.zeros([N,M])\n",
    "\n",
    "ave_bot_z   = np.zeros([N,M])\n",
    "ave_bot_r   = np.zeros([N,M])\n",
    "ave_bot_th  = np.zeros([N,M])\n",
    "std_bot_z   = np.zeros([N,M])\n",
    "std_bot_r   = np.zeros([N,M])\n",
    "std_bot_th  = np.zeros([N,M])\n",
    "\n",
    "ave_min_z   = np.zeros([N,M])\n",
    "ave_min_r   = np.zeros([N,M])\n",
    "ave_min_th  = np.zeros([N,M])\n",
    "std_min_z   = np.zeros([N,M])\n",
    "std_min_r   = np.zeros([N,M])\n",
    "std_min_th  = np.zeros([N,M])\n",
    "\n",
    "ave_max_z   = np.zeros([N,M])\n",
    "ave_max_r   = np.zeros([N,M])\n",
    "ave_max_th  = np.zeros([N,M])\n",
    "std_max_z   = np.zeros([N,M])\n",
    "std_max_r   = np.zeros([N,M])\n",
    "std_max_th  = np.zeros([N,M])\n",
    "\n",
    "ave_bonds   = np.zeros([N,M])\n",
    "std_bonds   = np.zeros([N,M])\n",
    "max_bonds   = np.zeros([N,M])\n",
    "min_bonds   = np.zeros([N,M])\n",
    "end_bonds   = np.zeros([N,M])\n",
    "\n",
    "\n",
    "FracOut = np.zeros([N, M])\n",
    "FracTop = np.zeros([N, M])\n",
    "\n",
    "minBonds = 0 #[495, 495 + 60, 495 + 11*15, 495 + 84*2, 495 + 84*2] #84*2 is the cinch length\n",
    "\n",
    "teth_len = 120\n",
    "conns = [0,0,0,0,0,0,0,0]\n",
    "\n",
    "for c in range(N):\n",
    "    for m in range(M):\n",
    "        print('Now processing : cinch' + str(c) + ', seed: ' + str(m))\n",
    "        data = np.genfromtxt('cinch' + str(c) + '/outposMD' + str(m) + '.dat')\n",
    "\n",
    "        #nucleotide to track\n",
    "        nt = getPoreNt(teth_len, numConn = conns[c])\n",
    "\n",
    "        #Get mean positions\n",
    "        posV = takeMean(getPosition(data, nt, 1, 0, 0))\n",
    "\n",
    "        #if pore is in opposite orientation\n",
    "        if np.mean(posV[2]) > 0:\n",
    "            zsign = -1\n",
    "        else:\n",
    "            zsign = 1\n",
    "\n",
    "        ave_z[c,m]   = np.mean(posV[2][s:-1])*zsign\n",
    "        ave_r[c,m]   = np.mean(cartToCyl(posV[0][s:-1],posV[1][s:-1],posV[2][s:-1])[0])\n",
    "        ave_th[c,m]  = np.mean(abs(cartToCyl(posV[0][s:-1],posV[1][s:-1],posV[2][s:-1])[1]))\n",
    "        std_z[c,m]   = np.std(posV[2][s:-1])\n",
    "        std_r[c,m]   = np.std(cartToCyl(posV[0][s:-1],posV[1][s:-1],posV[2][s:-1])[0])\n",
    "        std_th[c,m]  = np.std(abs(cartToCyl(posV[0][s:-1],posV[1][s:-1],posV[2][s:-1])[1]))\n",
    "\n",
    "        #Get top positions\n",
    "        posV = getPosition(data, getTopNt(teth_len, numConn = conns[c]), 1, 0, 0)\n",
    "        ave_top_z[c,m]   = np.mean(posV[2][s:-1])*zsign\n",
    "        ave_top_r[c,m]   = np.mean(cartToCyl(posV[0][s:-1],posV[1][s:-1],posV[2][s:-1])[0])\n",
    "        ave_top_th[c,m]  = np.mean(abs(cartToCyl(posV[0][s:-1],posV[1][s:-1],posV[2][s:-1])[1]))\n",
    "        std_top_z[c,m]   = np.std(posV[2][s:-1])\n",
    "        std_top_r[c,m]   = np.std(cartToCyl(posV[0][s:-1],posV[1][s:-1],posV[2][s:-1])[0])\n",
    "        std_top_th[c,m]  = np.std(abs(cartToCyl(posV[0][s:-1],posV[1][s:-1],posV[2][s:-1])[1]))\n",
    "\n",
    "        #Get middle positions\n",
    "        posV = getPosition(data, getMidNt(teth_len, numConn = conns[c]), 1, 0, 0)              \n",
    "        ave_mid_z[c,m]   = np.mean(posV[2][s:-1])*zsign\n",
    "        ave_mid_r[c,m]   = np.mean(cartToCyl(posV[0][s:-1],posV[1][s:-1],posV[2][s:-1])[0])\n",
    "        ave_mid_th[c,m]  = np.mean(abs(cartToCyl(posV[0][s:-1],posV[1][s:-1],posV[2][s:-1])[1]))\n",
    "        std_mid_z[c,m]   = np.std(posV[2][s:-1])\n",
    "        std_mid_r[c,m]   = np.std(cartToCyl(posV[0][s:-1],posV[1][s:-1],posV[2][s:-1])[0])\n",
    "        std_mid_th[c,m]  = np.std(abs(cartToCyl(posV[0][s:-1],posV[1][s:-1],posV[2][s:-1])[1]))\n",
    "\n",
    "        #Get bottom positions\n",
    "        posV = getPosition(data, getBotNt(teth_len, numConn = conns[c]), 1, 0, 0)              \n",
    "        ave_bot_z[c,m]   = np.mean(posV[2][s:-1])*zsign\n",
    "        ave_bot_r[c,m]   = np.mean(cartToCyl(posV[0][s:-1],posV[1][s:-1],posV[2][s:-1])[0])\n",
    "        ave_bot_th[c,m]  = np.mean(abs(cartToCyl(posV[0][s:-1],posV[1][s:-1],posV[2][s:-1])[1]))\n",
    "        std_bot_z[c,m]   = np.std(posV[2][s:-1])\n",
    "        std_bot_r[c,m]   = np.std(cartToCyl(posV[0][s:-1],posV[1][s:-1],posV[2][s:-1])[0])\n",
    "        std_bot_th[c,m]  = np.std(abs(cartToCyl(posV[0][s:-1],posV[1][s:-1],posV[2][s:-1])[1]))\n",
    "\n",
    "\n",
    "        #Get minimum positions\n",
    "        posV = takeMin(getPosition(data, nt, 1, 0, 0))  \n",
    "        posV1 = posV.copy()\n",
    "        ave_min_z[c,m]   = np.mean(posV[2][s:-1])*zsign\n",
    "        ave_min_r[c,m]   = np.mean(cartToCyl(posV[0][s:-1],posV[1][s:-1],posV[2][s:-1])[0])\n",
    "        ave_min_th[c,m]  = np.mean(abs(cartToCyl(posV[0][s:-1],posV[1][s:-1],posV[2][s:-1])[1]))\n",
    "        std_min_z[c,m]   = np.std(posV[2][s:-1])\n",
    "        std_min_r[c,m]   = np.std(cartToCyl(posV[0][s:-1],posV[1][s:-1],posV[2][s:-1])[0])\n",
    "        std_min_th[c,m]  = np.std(abs(cartToCyl(posV[0][s:-1],posV[1][s:-1],posV[2][s:-1])[1]))\n",
    "        \n",
    "        #Get maximum positions\n",
    "        posV = takeMax(getPosition(data, nt, 1, 0, 0))            \n",
    "        ave_max_z[c,m]   = np.mean(posV[2][s:-1])*zsign\n",
    "        ave_max_r[c,m]   = np.mean(cartToCyl(posV[0][s:-1],posV[1][s:-1],posV[2][s:-1])[0])\n",
    "        ave_max_th[c,m]  = np.mean(abs(cartToCyl(posV[0][s:-1],posV[1][s:-1],posV[2][s:-1])[1]))\n",
    "        std_max_z[c,m]   = np.std(posV[2][s:-1])\n",
    "        std_max_r[c,m]   = np.std(cartToCyl(posV[0][s:-1],posV[1][s:-1],posV[2][s:-1])[0])\n",
    "        std_max_th[c,m]  = np.std(abs(cartToCyl(posV[0][s:-1],posV[1][s:-1],posV[2][s:-1])[1]))\n",
    "\n",
    "        #fraction of time outside the pore\n",
    "        FracOut[c,m] = sum(((posV1[2][s:-1][i] < -poreEnd) | (posV[2][s:-1][i] >  topEnd))  for i in range(len(posV[2][s:-1])))/len(posV[2][s:-1])      \n",
    "        FracTop[c,m] = sum(((posV[2][s:-1][i] >  poreEnd)  | (posV1[2][s:-1][i] < -topEnd))  for i in range(len(posV[2][s:-1])))/len(posV[2][s:-1])\n",
    "\n",
    "        #number of bonds\n",
    "        bonds = np.genfromtxt('cinch' + str(c) + '/numbondsMD' + str(m) + '.txt')    \n",
    "        bonds = bonds - minBonds\n",
    "        bonds = bonds.clip(min=0)\n",
    "        ave_bonds[c,m]   = np.mean(bonds)\n",
    "        std_bonds[c,m]   = np.std(bonds)\n",
    "        max_bonds[c,m]   = np.max(bonds)\n",
    "        min_bonds[c,m]   = np.min(bonds)        \n",
    "        end_bonds[c,m]   = bonds[-1]\n",
    "    \n",
    "\n",
    "        \n",
    "print('Finished processing')"
   ]
  },
  {
   "cell_type": "code",
   "execution_count": 5,
   "metadata": {},
   "outputs": [
    {
     "data": {
      "text/plain": [
       "array([[0.        , 0.        , 0.        , 0.        , 0.        ],\n",
       "       [0.        , 0.        , 0.        , 0.        , 0.        ],\n",
       "       [0.        , 0.        , 0.        , 0.        , 0.        ],\n",
       "       [0.        , 0.        , 0.        , 0.        , 0.        ],\n",
       "       [0.        , 0.        , 0.        , 0.        , 0.        ],\n",
       "       [0.        , 0.        , 0.        , 0.        , 0.        ],\n",
       "       [0.        , 0.        , 0.        , 0.        , 0.        ],\n",
       "       [0.88362069, 0.25570776, 0.98190045, 0.96035242, 0.53603604]])"
      ]
     },
     "execution_count": 5,
     "metadata": {},
     "output_type": "execute_result"
    }
   ],
   "source": [
    "FracOut"
   ]
  },
  {
   "cell_type": "code",
   "execution_count": 22,
   "metadata": {},
   "outputs": [
    {
     "data": {
      "text/plain": [
       "array([[0.        , 0.00325733, 0.00704225, 0.00346021, 0.00371747],\n",
       "       [0.        , 0.        , 0.        , 0.        , 0.        ],\n",
       "       [0.        , 0.        , 0.        , 0.        , 0.        ],\n",
       "       [0.        , 0.        , 0.        , 0.        , 0.        ],\n",
       "       [0.        , 0.        , 0.        , 0.        , 0.        ],\n",
       "       [0.        , 0.        , 0.        , 0.        , 0.        ],\n",
       "       [0.        , 0.        , 0.        , 0.        , 0.        ],\n",
       "       [0.35294118, 0.        , 0.99145299, 0.76818182, 0.69911504]])"
      ]
     },
     "execution_count": 22,
     "metadata": {},
     "output_type": "execute_result"
    }
   ],
   "source": [
    "FracOut"
   ]
  },
  {
   "cell_type": "code",
   "execution_count": 6,
   "metadata": {},
   "outputs": [
    {
     "data": {
      "text/plain": [
       "array([[551., 552., 557., 559., 560.],\n",
       "       [683., 680., 678., 682., 680.],\n",
       "       [680., 682., 678., 680., 679.],\n",
       "       [617., 617., 619., 617., 620.],\n",
       "       [685., 681., 683., 685., 684.],\n",
       "       [614., 613., 613., 619., 618.],\n",
       "       [691., 691., 685., 691., 690.],\n",
       "       [703., 706., 702., 702., 709.]])"
      ]
     },
     "execution_count": 6,
     "metadata": {},
     "output_type": "execute_result"
    }
   ],
   "source": [
    "max_bonds"
   ]
  },
  {
   "cell_type": "code",
   "execution_count": 8,
   "metadata": {},
   "outputs": [
    {
     "data": {
      "text/plain": [
       "array([[-31.76786462, -30.69812373, -29.88153636, -31.07146513,\n",
       "        -30.06797352],\n",
       "       [-29.15462921, -29.0183561 , -29.00064689, -29.28793366,\n",
       "        -29.2467539 ],\n",
       "       [-29.31290891, -29.5410158 , -29.35753225, -29.06797577,\n",
       "        -29.57306343],\n",
       "       [-30.45354813, -29.64991579, -30.54375568, -30.39601889,\n",
       "        -30.64201059],\n",
       "       [-28.64514849, -28.54052235, -28.27322849, -28.49488106,\n",
       "        -28.43394487],\n",
       "       [-30.70588016, -30.38938292, -30.4203767 , -30.39446111,\n",
       "        -29.95592864],\n",
       "       [-35.47593036, -34.98166122, -35.82661925, -35.52263291,\n",
       "        -36.07133319],\n",
       "       [-51.59180465, -35.5100985 , -54.78922939, -55.58559397,\n",
       "        -42.29193397]])"
      ]
     },
     "execution_count": 8,
     "metadata": {},
     "output_type": "execute_result"
    }
   ],
   "source": [
    "ave_min_z"
   ]
  },
  {
   "cell_type": "code",
   "execution_count": 9,
   "metadata": {},
   "outputs": [],
   "source": [
    "#save results to hdf5 file\n",
    "import h5py\n",
    "\n",
    "saveName = 'resultsSummary.hdf5'\n",
    "\n",
    "with h5py.File(saveName, \"a\") as f:\n",
    "    #f.create_dataset(\"teth_lens\", data=np.array(teth_lens))\n",
    "    f.create_dataset(\"ave_z\", data=ave_z)\n",
    "    f.create_dataset(\"ave_r\", data=ave_r)\n",
    "    f.create_dataset(\"ave_th\", data=ave_th)\n",
    "    f.create_dataset(\"std_z\", data=std_z)\n",
    "    f.create_dataset(\"std_r\", data=std_r)\n",
    "    f.create_dataset(\"std_th\", data=std_th)\n",
    "    f.create_dataset(\"ave_top_z\", data=ave_top_z)\n",
    "    f.create_dataset(\"ave_top_r\", data=ave_top_r)\n",
    "    f.create_dataset(\"ave_top_th\", data=ave_top_th)\n",
    "    f.create_dataset(\"std_top_z\", data=std_top_z)\n",
    "    f.create_dataset(\"std_top_r\", data=std_top_r)\n",
    "    f.create_dataset(\"std_top_th\", data=std_top_th)\n",
    "    f.create_dataset(\"ave_mid_z\", data=ave_mid_z)\n",
    "    f.create_dataset(\"ave_mid_r\", data=ave_mid_r)\n",
    "    f.create_dataset(\"ave_mid_th\", data=ave_mid_th)\n",
    "    f.create_dataset(\"std_mid_z\", data=std_mid_z)\n",
    "    f.create_dataset(\"std_mid_r\", data=std_mid_r)\n",
    "    f.create_dataset(\"std_mid_th\", data=std_mid_th)\n",
    "    f.create_dataset(\"ave_bot_z\", data=ave_bot_z)\n",
    "    f.create_dataset(\"ave_bot_r\", data=ave_bot_r)\n",
    "    f.create_dataset(\"ave_bot_th\", data=ave_bot_th)\n",
    "    f.create_dataset(\"std_bot_z\", data=std_bot_z)\n",
    "    f.create_dataset(\"std_bot_r\", data=std_bot_r)\n",
    "    f.create_dataset(\"std_bot_th\", data=std_bot_th)\n",
    "    f.create_dataset(\"ave_min_z\", data=ave_min_z)\n",
    "    f.create_dataset(\"ave_min_r\", data=ave_min_r)\n",
    "    f.create_dataset(\"ave_min_th\", data=ave_min_th)\n",
    "    f.create_dataset(\"std_min_z\", data=std_min_z)\n",
    "    f.create_dataset(\"std_min_r\", data=std_min_r)\n",
    "    f.create_dataset(\"std_min_th\", data=std_min_th)    \n",
    "    f.create_dataset(\"FracOut\", data=FracOut) "
   ]
  },
  {
   "cell_type": "code",
   "execution_count": 9,
   "metadata": {},
   "outputs": [
    {
     "name": "stdout",
     "output_type": "stream",
     "text": [
      "[0.88362069 0.25570776 0.98190045 0.96035242 0.53603604] [ 1.55315618 -0.96823348  1.64802078  1.64299544 -0.14666893] , [2.25963414 2.39162687 1.22752923 1.89316206 2.55119829] , [6.85336181 7.23674276 7.47878561 7.06090533 7.45787778] , [1.37018563 1.29957059 1.01929585 1.15716038 1.11860232] , [-17.74652572  -1.54043673 -20.78033754 -21.76582835  -8.2334392 ] , [ 7.28938088 11.55480469  3.67600362  4.77122597 13.85611471] , [3.73082641 3.44783347 3.72051292 3.5854718  3.34754645] , [1.61521721 1.7719322  1.52744009 1.55673838 1.67030322] , [ -7.98725738   5.68411981 -10.53180497 -10.02719511  -0.26896411] , [ 6.71543853  9.5344196   3.25077874  3.81734566 11.22211833] , [4.47171638 5.486184   4.96008781 4.72487782 5.71739933] , [2.12193911 2.23244429 1.85095153 1.96783337 2.03959749] , [-32.14014128 -16.90593634 -35.04148822 -35.77179169 -23.25791318] , [ 6.80469637 10.8819524   3.38350872  4.46344825 12.94007799] , [2.64365605 2.19282443 2.85048821 2.67403485 2.3747732 ] , [1.17357726 1.10301636 1.28162116 1.32863459 1.13537314] , [-51.59180465 -35.5100985  -54.78922939 -55.58559397 -42.29193397] , [ 7.13540969 11.60611166  3.67088772  4.86915608 13.69938232] , [11.24288872 11.30845436 11.2503896  11.3574522  11.13970251] , [1.53991317 1.36664935 1.71360163 1.6170587  1.4133995 ]\n"
     ]
    }
   ],
   "source": [
    "i = 7\n",
    "print(FracOut[i],ave_top_z[i],',',std_top_z[i], ',', ave_top_r[i],',',std_top_r[i],',',ave_mid_z[i],',',std_mid_z[i],',', ave_mid_r[i],',',std_mid_r[i],',',ave_bot_z[i],',',std_bot_z[i],',', ave_bot_r[i],',',std_bot_r[i],',',ave_z[i],',',std_z[i],',', ave_r[i],',',std_r[i],',',ave_min_z[i],',',std_min_z[i],',', ave_min_r[i],',',std_min_r[i])"
   ]
  },
  {
   "cell_type": "code",
   "execution_count": 5,
   "metadata": {},
   "outputs": [
    {
     "name": "stdout",
     "output_type": "stream",
     "text": [
      "0.0 , -2.3212859214797446 , 3.116337694148869 , 3.4551294480601045 , 1.5607804539711128 , -16.459176776523584 , 3.0919496285688584 , 3.021372953899524 , 1.4455035341414337 , -29.82304641305321 , 3.190215635000911 , 4.630958120980637 , 2.030706509926606 , -30.697392670860403 , 3.086878425656019 , 7.171990486756329 , 1.9244927375447318 , -0.4697554906649855 , 3.0662782078804423 , 8.27648615613119 , 1.6523403773672516 , 540.9891852108981 , 7.8626150085265705 , 504.0 , 560.0\n",
      "0.0 , -1.1501249126980375 , 1.078403427882449 , 4.589788455006856 , 1.2128607702194505 , -14.724800236645105 , 1.0917237075744275 , 2.488888340223577 , 1.1534780176402641 , -27.94667083764933 , 1.3405935334940884 , 4.91384541377317 , 2.0602314138097464 , -29.141663954185578 , 1.143832439597266 , 7.287058055366822 , 1.7122248693952755 , 0.813910573015303 , 1.185883538400509 , 9.078880141732638 , 1.1992319261509805 , 671.6162612809668 , 3.9158719364480605 , 655.0 , 683.0\n",
      "0.0 , -1.264053048059226 , 1.1716445828349173 , 4.253613079825742 , 1.2855556388526275 , -15.004176835424412 , 1.1942837172275513 , 2.4910051026109983 , 1.2012863528412911 , -28.23496651220798 , 1.4720775162431399 , 4.823515763224873 , 2.05207743702337 , -29.370499234335814 , 1.2316356158918298 , 7.206144876530376 , 1.7930703019545835 , 0.6605442380690593 , 1.2438087939092703 , 8.966210756210128 , 1.3004710554805166 , 670.1729048629178 , 3.923085733484343 , 656.0 , 682.0\n",
      "0.0 , -2.0643957544579985 , 1.5703069642836909 , 4.001944004568523 , 1.4422975767753783 , -16.030249592748437 , 1.5576968794400023 , 2.708689110908387 , 1.3356260738881267 , -29.318961417040203 , 1.7797308031670753 , 4.679900630761825 , 2.032311961080233 , -30.337049817194213 , 1.5878523791187873 , 7.201266409148664 , 1.8003918417025535 , -0.25758561309058614 , 1.5676698102479132 , 8.562859958519956 , 1.4662103421637618 , 606.8823527026719 , 4.554784757766841 , 588.0 , 620.0\n",
      "0.0 , -0.859373334627562 , 0.8798845848523908 , 6.105167269468705 , 0.6415238568137361 , -13.884553327142351 , 0.7253557785727001 , 2.677457828097535 , 1.1381798995457588 , -27.075935170879546 , 1.0408286953640746 , 5.571381492430911 , 1.9409623781770418 , -28.47754505291657 , 0.7885292151801444 , 7.957352186545945 , 1.2793863240484686 , 1.3670052488270659 , 0.8753288999508044 , 9.576035135848466 , 1.0278261765233752 , 672.1666172711384 , 4.535803972540544 , 658.0 , 685.0\n",
      "0.0 , -1.9046629489793159 , 1.9923631216787308 , 3.489128065696382 , 1.539832015532013 , -15.972456853248934 , 1.9776919497866263 , 2.889713600511725 , 1.4043369653290239 , -29.268836089658066 , 2.1624675615344335 , 4.958031966799436 , 2.0647428144375306 , -30.37320590720997 , 1.9920242352573443 , 7.281852926371005 , 1.932540018324525 , -0.3741527419478635 , 1.9686239213693917 , 8.760494251682173 , 1.5119904330023644 , 598.4267334827342 , 6.314097162178416 , 579.0 , 619.0\n",
      "0.007048864948056945 , -0.4219021925855498 , 1.7981559367761626 , 7.589355903689386 , 0.8902190705806404 , -5.147092534399188 , 1.726100863009964 , 3.399975842017324 , 1.0969949648489088 , -0.23785428624497965 , 1.683455598757631 , 2.0697778048960176 , 1.0206757597278018 , -35.575635388068704 , 1.889392834521996 , 10.544469791520042 , 0.9065967637284749 , 4.462802443590308 , 1.7287262071558984 , 9.09555356320388 , 1.1840012185216104 , 677.1032148481216 , 4.7059451582230825 , 661.0 , 691.0\n",
      "0.9822797391507905 , 0.7458539982766516 , 2.0646301178080035 , 7.217534660764767 , 1.192962952565561 , -14.01331350696955 , 8.229505972557694 , 3.566438211545381 , 1.6283262207149594 , -4.626220350248716 , 6.9080201716904295 , 5.072053069733917 , 2.0425531587743317 , -47.95373209749137 , 8.19618949404583 , 11.259777478864027 , 1.5301244705430963 , 5.695227357945539 , 3.98784021431998 , 8.7887238809912 , 2.436343370352651 , 686.9662898615975 , 6.219288829323648 , 664.0 , 709.0\n"
     ]
    }
   ],
   "source": [
    "#No Standard deviation\n",
    "for i in range(8):\n",
    "    print(np.mean(FracOut[i]), ',', np.mean(ave_top_z[i]), ',',  np.mean(std_top_z[i]), ',', np.mean(ave_top_r[i]),',', np.mean(std_top_r[i]),',',np.mean(ave_mid_z[i]),',', np.mean(std_mid_z[i]),',',np.mean(ave_mid_r[i]),',',np.mean(std_mid_r[i]),',',np.mean(ave_bot_z[i]),',', np.mean(std_bot_z[i]),',',np.mean(ave_bot_r[i]),',',np.mean(std_bot_r[i]),',',np.mean(ave_min_z[i]),',',np.mean(std_min_z[i]),',', np.mean(ave_min_r[i]),',',np.mean(std_min_r[i]),',',np.mean(ave_max_z[i]),',',np.mean(std_max_z[i]),',',np.mean(ave_max_r[i]),',',np.mean(std_max_r[i]),',',np.mean(ave_bonds[i]),',',np.mean(std_bonds[i]),',',np.min(min_bonds[i]),',',np.max(max_bonds[i]))"
   ]
  },
  {
   "cell_type": "code",
   "execution_count": 8,
   "metadata": {},
   "outputs": [
    {
     "ename": "ValueError",
     "evalue": "shape mismatch: objects cannot be broadcast to a single shape",
     "output_type": "error",
     "traceback": [
      "\u001b[0;31m---------------------------------------------------------------------------\u001b[0m",
      "\u001b[0;31mValueError\u001b[0m                                Traceback (most recent call last)",
      "\u001b[0;32m<ipython-input-8-3e76a0242e26>\u001b[0m in \u001b[0;36m<module>\u001b[0;34m\u001b[0m\n\u001b[1;32m     11\u001b[0m \u001b[0mstd_rs\u001b[0m    \u001b[0;34m=\u001b[0m \u001b[0mnp\u001b[0m\u001b[0;34m.\u001b[0m\u001b[0marray\u001b[0m\u001b[0;34m(\u001b[0m\u001b[0;34m[\u001b[0m\u001b[0mstd_top_r\u001b[0m\u001b[0;34m[\u001b[0m\u001b[0;34m:\u001b[0m\u001b[0;34m]\u001b[0m\u001b[0;34m,\u001b[0m \u001b[0mstd_mid_r\u001b[0m\u001b[0;34m[\u001b[0m\u001b[0;34m:\u001b[0m\u001b[0;34m]\u001b[0m\u001b[0;34m,\u001b[0m \u001b[0mstd_bot_r\u001b[0m\u001b[0;34m[\u001b[0m\u001b[0;34m:\u001b[0m\u001b[0;34m]\u001b[0m\u001b[0;34m,\u001b[0m \u001b[0mstd_r\u001b[0m\u001b[0;34m[\u001b[0m\u001b[0;34m:\u001b[0m\u001b[0;34m]\u001b[0m\u001b[0;34m,\u001b[0m \u001b[0mstd_min_r\u001b[0m\u001b[0;34m[\u001b[0m\u001b[0;34m:\u001b[0m\u001b[0;34m]\u001b[0m\u001b[0;34m]\u001b[0m\u001b[0;34m)\u001b[0m\u001b[0;34m\u001b[0m\u001b[0;34m\u001b[0m\u001b[0m\n\u001b[1;32m     12\u001b[0m \u001b[0;34m\u001b[0m\u001b[0m\n\u001b[0;32m---> 13\u001b[0;31m \u001b[0mplotMeanStdEBInverse\u001b[0m\u001b[0;34m(\u001b[0m\u001b[0mtypes\u001b[0m\u001b[0;34m,\u001b[0m \u001b[0mave_zs\u001b[0m\u001b[0;34m,\u001b[0m \u001b[0mstd_zs\u001b[0m\u001b[0;34m,\u001b[0m \u001b[0mylabel\u001b[0m \u001b[0;34m=\u001b[0m \u001b[0;34m'z (nm)'\u001b[0m\u001b[0;34m,\u001b[0m \u001b[0mtitle\u001b[0m \u001b[0;34m=\u001b[0m \u001b[0;34m'Vertical position in barrel'\u001b[0m\u001b[0;34m,\u001b[0m \u001b[0mlegend\u001b[0m \u001b[0;34m=\u001b[0m \u001b[0mseqNames\u001b[0m\u001b[0;34m,\u001b[0m \u001b[0mxlabel\u001b[0m \u001b[0;34m=\u001b[0m \u001b[0;34m'type'\u001b[0m\u001b[0;34m,\u001b[0m \u001b[0mhline\u001b[0m \u001b[0;34m=\u001b[0m \u001b[0;34m-\u001b[0m\u001b[0;36m43\u001b[0m\u001b[0;34m)\u001b[0m\u001b[0;34m\u001b[0m\u001b[0;34m\u001b[0m\u001b[0m\n\u001b[0m\u001b[1;32m     14\u001b[0m \u001b[0mplotMeanStdEBInverse\u001b[0m\u001b[0;34m(\u001b[0m\u001b[0mtypes\u001b[0m\u001b[0;34m,\u001b[0m \u001b[0mave_rs\u001b[0m\u001b[0;34m,\u001b[0m \u001b[0mstd_rs\u001b[0m\u001b[0;34m,\u001b[0m \u001b[0mylabel\u001b[0m \u001b[0;34m=\u001b[0m \u001b[0;34m'r (nm)'\u001b[0m\u001b[0;34m,\u001b[0m \u001b[0mtitle\u001b[0m \u001b[0;34m=\u001b[0m \u001b[0;34m'Radial position in barrel'\u001b[0m\u001b[0;34m,\u001b[0m \u001b[0mlegend\u001b[0m \u001b[0;34m=\u001b[0m \u001b[0mseqNames\u001b[0m\u001b[0;34m,\u001b[0m \u001b[0mxlabel\u001b[0m \u001b[0;34m=\u001b[0m \u001b[0;34m'type'\u001b[0m\u001b[0;34m)\u001b[0m\u001b[0;34m\u001b[0m\u001b[0;34m\u001b[0m\u001b[0m\n\u001b[1;32m     15\u001b[0m \u001b[0mplotMeanStdEBInverse\u001b[0m\u001b[0;34m(\u001b[0m\u001b[0mtypes\u001b[0m\u001b[0;34m,\u001b[0m \u001b[0mstd_zs\u001b[0m\u001b[0;34m,\u001b[0m \u001b[0mstd_zs\u001b[0m\u001b[0;34m*\u001b[0m\u001b[0;36m0\u001b[0m\u001b[0;34m,\u001b[0m \u001b[0mylabel\u001b[0m \u001b[0;34m=\u001b[0m \u001b[0;34m'std(z) (nm)'\u001b[0m\u001b[0;34m,\u001b[0m \u001b[0mtitle\u001b[0m \u001b[0;34m=\u001b[0m \u001b[0;34m'Std Vertical position in barrel'\u001b[0m\u001b[0;34m,\u001b[0m \u001b[0mlegend\u001b[0m \u001b[0;34m=\u001b[0m \u001b[0mseqNames\u001b[0m\u001b[0;34m,\u001b[0m \u001b[0mxlabel\u001b[0m \u001b[0;34m=\u001b[0m \u001b[0;34m'type'\u001b[0m\u001b[0;34m)\u001b[0m\u001b[0;34m\u001b[0m\u001b[0;34m\u001b[0m\u001b[0m\n",
      "\u001b[0;32m<ipython-input-3-4d8897c84c8b>\u001b[0m in \u001b[0;36mplotMeanStdEBInverse\u001b[0;34m(xval, Means, Stds, ylabel, xlabel, title, legend, hline, vline)\u001b[0m\n\u001b[1;32m    250\u001b[0m     \u001b[0;32melse\u001b[0m\u001b[0;34m:\u001b[0m\u001b[0;34m\u001b[0m\u001b[0;34m\u001b[0m\u001b[0m\n\u001b[1;32m    251\u001b[0m         \u001b[0;32mfor\u001b[0m \u001b[0mi\u001b[0m \u001b[0;32min\u001b[0m \u001b[0mrange\u001b[0m\u001b[0;34m(\u001b[0m\u001b[0mnp\u001b[0m\u001b[0;34m.\u001b[0m\u001b[0mshape\u001b[0m\u001b[0;34m(\u001b[0m\u001b[0mMeans\u001b[0m\u001b[0;34m)\u001b[0m\u001b[0;34m[\u001b[0m\u001b[0;36m0\u001b[0m\u001b[0;34m]\u001b[0m\u001b[0;34m)\u001b[0m\u001b[0;34m:\u001b[0m\u001b[0;34m\u001b[0m\u001b[0;34m\u001b[0m\u001b[0m\n\u001b[0;32m--> 252\u001b[0;31m             \u001b[0mplt\u001b[0m\u001b[0;34m.\u001b[0m\u001b[0merrorbar\u001b[0m\u001b[0;34m(\u001b[0m\u001b[0mlegend\u001b[0m\u001b[0;34m,\u001b[0m \u001b[0mMeans\u001b[0m\u001b[0;34m[\u001b[0m\u001b[0mi\u001b[0m\u001b[0;34m,\u001b[0m\u001b[0;34m:\u001b[0m\u001b[0;34m]\u001b[0m\u001b[0;34m,\u001b[0m \u001b[0mStds\u001b[0m\u001b[0;34m[\u001b[0m\u001b[0mi\u001b[0m\u001b[0;34m,\u001b[0m\u001b[0;34m:\u001b[0m\u001b[0;34m]\u001b[0m\u001b[0;34m,\u001b[0m \u001b[0mfmt\u001b[0m\u001b[0;34m=\u001b[0m\u001b[0mshapes\u001b[0m\u001b[0;34m[\u001b[0m\u001b[0mi\u001b[0m\u001b[0;34m]\u001b[0m \u001b[0;34m+\u001b[0m \u001b[0;34m':'\u001b[0m\u001b[0;34m,\u001b[0m \u001b[0mlabel\u001b[0m \u001b[0;34m=\u001b[0m \u001b[0mxval\u001b[0m\u001b[0;34m[\u001b[0m\u001b[0mi\u001b[0m\u001b[0;34m]\u001b[0m\u001b[0;34m)\u001b[0m\u001b[0;34m\u001b[0m\u001b[0;34m\u001b[0m\u001b[0m\n\u001b[0m\u001b[1;32m    253\u001b[0m \u001b[0;34m\u001b[0m\u001b[0m\n\u001b[1;32m    254\u001b[0m     \u001b[0;32mif\u001b[0m \u001b[0mhline\u001b[0m \u001b[0;32mis\u001b[0m \u001b[0;32mnot\u001b[0m \u001b[0;32mNone\u001b[0m\u001b[0;34m:\u001b[0m\u001b[0;34m\u001b[0m\u001b[0;34m\u001b[0m\u001b[0m\n",
      "\u001b[0;32m~/.local/lib/python3.8/site-packages/matplotlib/pyplot.py\u001b[0m in \u001b[0;36merrorbar\u001b[0;34m(x, y, yerr, xerr, fmt, ecolor, elinewidth, capsize, barsabove, lolims, uplims, xlolims, xuplims, errorevery, capthick, data, **kwargs)\u001b[0m\n\u001b[1;32m   2602\u001b[0m         \u001b[0muplims\u001b[0m\u001b[0;34m=\u001b[0m\u001b[0;32mFalse\u001b[0m\u001b[0;34m,\u001b[0m \u001b[0mxlolims\u001b[0m\u001b[0;34m=\u001b[0m\u001b[0;32mFalse\u001b[0m\u001b[0;34m,\u001b[0m \u001b[0mxuplims\u001b[0m\u001b[0;34m=\u001b[0m\u001b[0;32mFalse\u001b[0m\u001b[0;34m,\u001b[0m \u001b[0merrorevery\u001b[0m\u001b[0;34m=\u001b[0m\u001b[0;36m1\u001b[0m\u001b[0;34m,\u001b[0m\u001b[0;34m\u001b[0m\u001b[0;34m\u001b[0m\u001b[0m\n\u001b[1;32m   2603\u001b[0m         capthick=None, *, data=None, **kwargs):\n\u001b[0;32m-> 2604\u001b[0;31m     return gca().errorbar(\n\u001b[0m\u001b[1;32m   2605\u001b[0m         \u001b[0mx\u001b[0m\u001b[0;34m,\u001b[0m \u001b[0my\u001b[0m\u001b[0;34m,\u001b[0m \u001b[0myerr\u001b[0m\u001b[0;34m=\u001b[0m\u001b[0myerr\u001b[0m\u001b[0;34m,\u001b[0m \u001b[0mxerr\u001b[0m\u001b[0;34m=\u001b[0m\u001b[0mxerr\u001b[0m\u001b[0;34m,\u001b[0m \u001b[0mfmt\u001b[0m\u001b[0;34m=\u001b[0m\u001b[0mfmt\u001b[0m\u001b[0;34m,\u001b[0m \u001b[0mecolor\u001b[0m\u001b[0;34m=\u001b[0m\u001b[0mecolor\u001b[0m\u001b[0;34m,\u001b[0m\u001b[0;34m\u001b[0m\u001b[0;34m\u001b[0m\u001b[0m\n\u001b[1;32m   2606\u001b[0m         \u001b[0melinewidth\u001b[0m\u001b[0;34m=\u001b[0m\u001b[0melinewidth\u001b[0m\u001b[0;34m,\u001b[0m \u001b[0mcapsize\u001b[0m\u001b[0;34m=\u001b[0m\u001b[0mcapsize\u001b[0m\u001b[0;34m,\u001b[0m \u001b[0mbarsabove\u001b[0m\u001b[0;34m=\u001b[0m\u001b[0mbarsabove\u001b[0m\u001b[0;34m,\u001b[0m\u001b[0;34m\u001b[0m\u001b[0;34m\u001b[0m\u001b[0m\n",
      "\u001b[0;32m~/.local/lib/python3.8/site-packages/matplotlib/__init__.py\u001b[0m in \u001b[0;36minner\u001b[0;34m(ax, data, *args, **kwargs)\u001b[0m\n\u001b[1;32m   1445\u001b[0m     \u001b[0;32mdef\u001b[0m \u001b[0minner\u001b[0m\u001b[0;34m(\u001b[0m\u001b[0max\u001b[0m\u001b[0;34m,\u001b[0m \u001b[0;34m*\u001b[0m\u001b[0margs\u001b[0m\u001b[0;34m,\u001b[0m \u001b[0mdata\u001b[0m\u001b[0;34m=\u001b[0m\u001b[0;32mNone\u001b[0m\u001b[0;34m,\u001b[0m \u001b[0;34m**\u001b[0m\u001b[0mkwargs\u001b[0m\u001b[0;34m)\u001b[0m\u001b[0;34m:\u001b[0m\u001b[0;34m\u001b[0m\u001b[0;34m\u001b[0m\u001b[0m\n\u001b[1;32m   1446\u001b[0m         \u001b[0;32mif\u001b[0m \u001b[0mdata\u001b[0m \u001b[0;32mis\u001b[0m \u001b[0;32mNone\u001b[0m\u001b[0;34m:\u001b[0m\u001b[0;34m\u001b[0m\u001b[0;34m\u001b[0m\u001b[0m\n\u001b[0;32m-> 1447\u001b[0;31m             \u001b[0;32mreturn\u001b[0m \u001b[0mfunc\u001b[0m\u001b[0;34m(\u001b[0m\u001b[0max\u001b[0m\u001b[0;34m,\u001b[0m \u001b[0;34m*\u001b[0m\u001b[0mmap\u001b[0m\u001b[0;34m(\u001b[0m\u001b[0msanitize_sequence\u001b[0m\u001b[0;34m,\u001b[0m \u001b[0margs\u001b[0m\u001b[0;34m)\u001b[0m\u001b[0;34m,\u001b[0m \u001b[0;34m**\u001b[0m\u001b[0mkwargs\u001b[0m\u001b[0;34m)\u001b[0m\u001b[0;34m\u001b[0m\u001b[0;34m\u001b[0m\u001b[0m\n\u001b[0m\u001b[1;32m   1448\u001b[0m \u001b[0;34m\u001b[0m\u001b[0m\n\u001b[1;32m   1449\u001b[0m         \u001b[0mbound\u001b[0m \u001b[0;34m=\u001b[0m \u001b[0mnew_sig\u001b[0m\u001b[0;34m.\u001b[0m\u001b[0mbind\u001b[0m\u001b[0;34m(\u001b[0m\u001b[0max\u001b[0m\u001b[0;34m,\u001b[0m \u001b[0;34m*\u001b[0m\u001b[0margs\u001b[0m\u001b[0;34m,\u001b[0m \u001b[0;34m**\u001b[0m\u001b[0mkwargs\u001b[0m\u001b[0;34m)\u001b[0m\u001b[0;34m\u001b[0m\u001b[0;34m\u001b[0m\u001b[0m\n",
      "\u001b[0;32m~/.local/lib/python3.8/site-packages/matplotlib/axes/_axes.py\u001b[0m in \u001b[0;36merrorbar\u001b[0;34m(self, x, y, yerr, xerr, fmt, ecolor, elinewidth, capsize, barsabove, lolims, uplims, xlolims, xuplims, errorevery, capthick, **kwargs)\u001b[0m\n\u001b[1;32m   3356\u001b[0m         \u001b[0;32mif\u001b[0m \u001b[0mplot_line\u001b[0m\u001b[0;34m:\u001b[0m\u001b[0;34m\u001b[0m\u001b[0;34m\u001b[0m\u001b[0m\n\u001b[1;32m   3357\u001b[0m             \u001b[0mdata_line\u001b[0m \u001b[0;34m=\u001b[0m \u001b[0mmlines\u001b[0m\u001b[0;34m.\u001b[0m\u001b[0mLine2D\u001b[0m\u001b[0;34m(\u001b[0m\u001b[0mx\u001b[0m\u001b[0;34m,\u001b[0m \u001b[0my\u001b[0m\u001b[0;34m,\u001b[0m \u001b[0;34m**\u001b[0m\u001b[0mplot_line_style\u001b[0m\u001b[0;34m)\u001b[0m\u001b[0;34m\u001b[0m\u001b[0;34m\u001b[0m\u001b[0m\n\u001b[0;32m-> 3358\u001b[0;31m             \u001b[0mself\u001b[0m\u001b[0;34m.\u001b[0m\u001b[0madd_line\u001b[0m\u001b[0;34m(\u001b[0m\u001b[0mdata_line\u001b[0m\u001b[0;34m)\u001b[0m\u001b[0;34m\u001b[0m\u001b[0;34m\u001b[0m\u001b[0m\n\u001b[0m\u001b[1;32m   3359\u001b[0m \u001b[0;34m\u001b[0m\u001b[0m\n\u001b[1;32m   3360\u001b[0m         \u001b[0mbarcols\u001b[0m \u001b[0;34m=\u001b[0m \u001b[0;34m[\u001b[0m\u001b[0;34m]\u001b[0m\u001b[0;34m\u001b[0m\u001b[0;34m\u001b[0m\u001b[0m\n",
      "\u001b[0;32m~/.local/lib/python3.8/site-packages/matplotlib/axes/_base.py\u001b[0m in \u001b[0;36madd_line\u001b[0;34m(self, line)\u001b[0m\n\u001b[1;32m   1962\u001b[0m             \u001b[0mline\u001b[0m\u001b[0;34m.\u001b[0m\u001b[0mset_clip_path\u001b[0m\u001b[0;34m(\u001b[0m\u001b[0mself\u001b[0m\u001b[0;34m.\u001b[0m\u001b[0mpatch\u001b[0m\u001b[0;34m)\u001b[0m\u001b[0;34m\u001b[0m\u001b[0;34m\u001b[0m\u001b[0m\n\u001b[1;32m   1963\u001b[0m \u001b[0;34m\u001b[0m\u001b[0m\n\u001b[0;32m-> 1964\u001b[0;31m         \u001b[0mself\u001b[0m\u001b[0;34m.\u001b[0m\u001b[0m_update_line_limits\u001b[0m\u001b[0;34m(\u001b[0m\u001b[0mline\u001b[0m\u001b[0;34m)\u001b[0m\u001b[0;34m\u001b[0m\u001b[0;34m\u001b[0m\u001b[0m\n\u001b[0m\u001b[1;32m   1965\u001b[0m         \u001b[0;32mif\u001b[0m \u001b[0;32mnot\u001b[0m \u001b[0mline\u001b[0m\u001b[0;34m.\u001b[0m\u001b[0mget_label\u001b[0m\u001b[0;34m(\u001b[0m\u001b[0;34m)\u001b[0m\u001b[0;34m:\u001b[0m\u001b[0;34m\u001b[0m\u001b[0;34m\u001b[0m\u001b[0m\n\u001b[1;32m   1966\u001b[0m             \u001b[0mline\u001b[0m\u001b[0;34m.\u001b[0m\u001b[0mset_label\u001b[0m\u001b[0;34m(\u001b[0m\u001b[0;34m'_line%d'\u001b[0m \u001b[0;34m%\u001b[0m \u001b[0mlen\u001b[0m\u001b[0;34m(\u001b[0m\u001b[0mself\u001b[0m\u001b[0;34m.\u001b[0m\u001b[0mlines\u001b[0m\u001b[0;34m)\u001b[0m\u001b[0;34m)\u001b[0m\u001b[0;34m\u001b[0m\u001b[0;34m\u001b[0m\u001b[0m\n",
      "\u001b[0;32m~/.local/lib/python3.8/site-packages/matplotlib/axes/_base.py\u001b[0m in \u001b[0;36m_update_line_limits\u001b[0;34m(self, line)\u001b[0m\n\u001b[1;32m   1984\u001b[0m         \u001b[0mFigures\u001b[0m \u001b[0mout\u001b[0m \u001b[0mthe\u001b[0m \u001b[0mdata\u001b[0m \u001b[0mlimit\u001b[0m \u001b[0mof\u001b[0m \u001b[0mthe\u001b[0m \u001b[0mgiven\u001b[0m \u001b[0mline\u001b[0m\u001b[0;34m,\u001b[0m \u001b[0mupdating\u001b[0m \u001b[0mself\u001b[0m\u001b[0;34m.\u001b[0m\u001b[0mdataLim\u001b[0m\u001b[0;34m.\u001b[0m\u001b[0;34m\u001b[0m\u001b[0;34m\u001b[0m\u001b[0m\n\u001b[1;32m   1985\u001b[0m         \"\"\"\n\u001b[0;32m-> 1986\u001b[0;31m         \u001b[0mpath\u001b[0m \u001b[0;34m=\u001b[0m \u001b[0mline\u001b[0m\u001b[0;34m.\u001b[0m\u001b[0mget_path\u001b[0m\u001b[0;34m(\u001b[0m\u001b[0;34m)\u001b[0m\u001b[0;34m\u001b[0m\u001b[0;34m\u001b[0m\u001b[0m\n\u001b[0m\u001b[1;32m   1987\u001b[0m         \u001b[0;32mif\u001b[0m \u001b[0mpath\u001b[0m\u001b[0;34m.\u001b[0m\u001b[0mvertices\u001b[0m\u001b[0;34m.\u001b[0m\u001b[0msize\u001b[0m \u001b[0;34m==\u001b[0m \u001b[0;36m0\u001b[0m\u001b[0;34m:\u001b[0m\u001b[0;34m\u001b[0m\u001b[0;34m\u001b[0m\u001b[0m\n\u001b[1;32m   1988\u001b[0m             \u001b[0;32mreturn\u001b[0m\u001b[0;34m\u001b[0m\u001b[0;34m\u001b[0m\u001b[0m\n",
      "\u001b[0;32m~/.local/lib/python3.8/site-packages/matplotlib/lines.py\u001b[0m in \u001b[0;36mget_path\u001b[0;34m(self)\u001b[0m\n\u001b[1;32m   1009\u001b[0m         \"\"\"\n\u001b[1;32m   1010\u001b[0m         \u001b[0;32mif\u001b[0m \u001b[0mself\u001b[0m\u001b[0;34m.\u001b[0m\u001b[0m_invalidy\u001b[0m \u001b[0;32mor\u001b[0m \u001b[0mself\u001b[0m\u001b[0;34m.\u001b[0m\u001b[0m_invalidx\u001b[0m\u001b[0;34m:\u001b[0m\u001b[0;34m\u001b[0m\u001b[0;34m\u001b[0m\u001b[0m\n\u001b[0;32m-> 1011\u001b[0;31m             \u001b[0mself\u001b[0m\u001b[0;34m.\u001b[0m\u001b[0mrecache\u001b[0m\u001b[0;34m(\u001b[0m\u001b[0;34m)\u001b[0m\u001b[0;34m\u001b[0m\u001b[0;34m\u001b[0m\u001b[0m\n\u001b[0m\u001b[1;32m   1012\u001b[0m         \u001b[0;32mreturn\u001b[0m \u001b[0mself\u001b[0m\u001b[0;34m.\u001b[0m\u001b[0m_path\u001b[0m\u001b[0;34m\u001b[0m\u001b[0;34m\u001b[0m\u001b[0m\n\u001b[1;32m   1013\u001b[0m \u001b[0;34m\u001b[0m\u001b[0m\n",
      "\u001b[0;32m~/.local/lib/python3.8/site-packages/matplotlib/lines.py\u001b[0m in \u001b[0;36mrecache\u001b[0;34m(self, always)\u001b[0m\n\u001b[1;32m    660\u001b[0m             \u001b[0my\u001b[0m \u001b[0;34m=\u001b[0m \u001b[0mself\u001b[0m\u001b[0;34m.\u001b[0m\u001b[0m_y\u001b[0m\u001b[0;34m\u001b[0m\u001b[0;34m\u001b[0m\u001b[0m\n\u001b[1;32m    661\u001b[0m \u001b[0;34m\u001b[0m\u001b[0m\n\u001b[0;32m--> 662\u001b[0;31m         \u001b[0mself\u001b[0m\u001b[0;34m.\u001b[0m\u001b[0m_xy\u001b[0m \u001b[0;34m=\u001b[0m \u001b[0mnp\u001b[0m\u001b[0;34m.\u001b[0m\u001b[0mcolumn_stack\u001b[0m\u001b[0;34m(\u001b[0m\u001b[0mnp\u001b[0m\u001b[0;34m.\u001b[0m\u001b[0mbroadcast_arrays\u001b[0m\u001b[0;34m(\u001b[0m\u001b[0mx\u001b[0m\u001b[0;34m,\u001b[0m \u001b[0my\u001b[0m\u001b[0;34m)\u001b[0m\u001b[0;34m)\u001b[0m\u001b[0;34m.\u001b[0m\u001b[0mastype\u001b[0m\u001b[0;34m(\u001b[0m\u001b[0mfloat\u001b[0m\u001b[0;34m)\u001b[0m\u001b[0;34m\u001b[0m\u001b[0;34m\u001b[0m\u001b[0m\n\u001b[0m\u001b[1;32m    663\u001b[0m         \u001b[0mself\u001b[0m\u001b[0;34m.\u001b[0m\u001b[0m_x\u001b[0m\u001b[0;34m,\u001b[0m \u001b[0mself\u001b[0m\u001b[0;34m.\u001b[0m\u001b[0m_y\u001b[0m \u001b[0;34m=\u001b[0m \u001b[0mself\u001b[0m\u001b[0;34m.\u001b[0m\u001b[0m_xy\u001b[0m\u001b[0;34m.\u001b[0m\u001b[0mT\u001b[0m  \u001b[0;31m# views\u001b[0m\u001b[0;34m\u001b[0m\u001b[0;34m\u001b[0m\u001b[0m\n\u001b[1;32m    664\u001b[0m \u001b[0;34m\u001b[0m\u001b[0m\n",
      "\u001b[0;32m<__array_function__ internals>\u001b[0m in \u001b[0;36mbroadcast_arrays\u001b[0;34m(*args, **kwargs)\u001b[0m\n",
      "\u001b[0;32m~/.local/lib/python3.8/site-packages/numpy/lib/stride_tricks.py\u001b[0m in \u001b[0;36mbroadcast_arrays\u001b[0;34m(subok, *args)\u001b[0m\n\u001b[1;32m    536\u001b[0m     \u001b[0margs\u001b[0m \u001b[0;34m=\u001b[0m \u001b[0;34m[\u001b[0m\u001b[0mnp\u001b[0m\u001b[0;34m.\u001b[0m\u001b[0marray\u001b[0m\u001b[0;34m(\u001b[0m\u001b[0m_m\u001b[0m\u001b[0;34m,\u001b[0m \u001b[0mcopy\u001b[0m\u001b[0;34m=\u001b[0m\u001b[0;32mFalse\u001b[0m\u001b[0;34m,\u001b[0m \u001b[0msubok\u001b[0m\u001b[0;34m=\u001b[0m\u001b[0msubok\u001b[0m\u001b[0;34m)\u001b[0m \u001b[0;32mfor\u001b[0m \u001b[0m_m\u001b[0m \u001b[0;32min\u001b[0m \u001b[0margs\u001b[0m\u001b[0;34m]\u001b[0m\u001b[0;34m\u001b[0m\u001b[0;34m\u001b[0m\u001b[0m\n\u001b[1;32m    537\u001b[0m \u001b[0;34m\u001b[0m\u001b[0m\n\u001b[0;32m--> 538\u001b[0;31m     \u001b[0mshape\u001b[0m \u001b[0;34m=\u001b[0m \u001b[0m_broadcast_shape\u001b[0m\u001b[0;34m(\u001b[0m\u001b[0;34m*\u001b[0m\u001b[0margs\u001b[0m\u001b[0;34m)\u001b[0m\u001b[0;34m\u001b[0m\u001b[0;34m\u001b[0m\u001b[0m\n\u001b[0m\u001b[1;32m    539\u001b[0m \u001b[0;34m\u001b[0m\u001b[0m\n\u001b[1;32m    540\u001b[0m     \u001b[0;32mif\u001b[0m \u001b[0mall\u001b[0m\u001b[0;34m(\u001b[0m\u001b[0marray\u001b[0m\u001b[0;34m.\u001b[0m\u001b[0mshape\u001b[0m \u001b[0;34m==\u001b[0m \u001b[0mshape\u001b[0m \u001b[0;32mfor\u001b[0m \u001b[0marray\u001b[0m \u001b[0;32min\u001b[0m \u001b[0margs\u001b[0m\u001b[0;34m)\u001b[0m\u001b[0;34m:\u001b[0m\u001b[0;34m\u001b[0m\u001b[0;34m\u001b[0m\u001b[0m\n",
      "\u001b[0;32m~/.local/lib/python3.8/site-packages/numpy/lib/stride_tricks.py\u001b[0m in \u001b[0;36m_broadcast_shape\u001b[0;34m(*args)\u001b[0m\n\u001b[1;32m    418\u001b[0m     \u001b[0;31m# use the old-iterator because np.nditer does not handle size 0 arrays\u001b[0m\u001b[0;34m\u001b[0m\u001b[0;34m\u001b[0m\u001b[0;34m\u001b[0m\u001b[0m\n\u001b[1;32m    419\u001b[0m     \u001b[0;31m# consistently\u001b[0m\u001b[0;34m\u001b[0m\u001b[0;34m\u001b[0m\u001b[0;34m\u001b[0m\u001b[0m\n\u001b[0;32m--> 420\u001b[0;31m     \u001b[0mb\u001b[0m \u001b[0;34m=\u001b[0m \u001b[0mnp\u001b[0m\u001b[0;34m.\u001b[0m\u001b[0mbroadcast\u001b[0m\u001b[0;34m(\u001b[0m\u001b[0;34m*\u001b[0m\u001b[0margs\u001b[0m\u001b[0;34m[\u001b[0m\u001b[0;34m:\u001b[0m\u001b[0;36m32\u001b[0m\u001b[0;34m]\u001b[0m\u001b[0;34m)\u001b[0m\u001b[0;34m\u001b[0m\u001b[0;34m\u001b[0m\u001b[0m\n\u001b[0m\u001b[1;32m    421\u001b[0m     \u001b[0;31m# unfortunately, it cannot handle 32 or more arguments directly\u001b[0m\u001b[0;34m\u001b[0m\u001b[0;34m\u001b[0m\u001b[0;34m\u001b[0m\u001b[0m\n\u001b[1;32m    422\u001b[0m     \u001b[0;32mfor\u001b[0m \u001b[0mpos\u001b[0m \u001b[0;32min\u001b[0m \u001b[0mrange\u001b[0m\u001b[0;34m(\u001b[0m\u001b[0;36m32\u001b[0m\u001b[0;34m,\u001b[0m \u001b[0mlen\u001b[0m\u001b[0;34m(\u001b[0m\u001b[0margs\u001b[0m\u001b[0;34m)\u001b[0m\u001b[0;34m,\u001b[0m \u001b[0;36m31\u001b[0m\u001b[0;34m)\u001b[0m\u001b[0;34m:\u001b[0m\u001b[0;34m\u001b[0m\u001b[0;34m\u001b[0m\u001b[0m\n",
      "\u001b[0;31mValueError\u001b[0m: shape mismatch: objects cannot be broadcast to a single shape"
     ]
    },
    {
     "data": {
      "image/png": "[encoded data removed]",
      "text/plain": [
       "<Figure size 432x288 with 1 Axes>"
      ]
     },
     "metadata": {
      "needs_background": "light"
     },
     "output_type": "display_data"
    }
   ],
   "source": [
    "'''\n",
    "Comparison between the different pores\n",
    "'''\n",
    "\n",
    "teth_lens = [teth_len]\n",
    "seqNames = ['free','42x2,s4','42x2,s6','46,s10','42x2,s0','42,s42','42,z42','z42x2']\n",
    "types = ['top', 'mid', 'bot', 'mean', 'min']\n",
    "ave_zs    = np.array([ave_top_z[:], ave_mid_z[:], ave_bot_z[:], ave_z[:], ave_min_z[:]])\n",
    "std_zs    = np.array([std_top_z[:], std_mid_z[:], std_bot_z[:], std_z[:], std_min_z[:]])\n",
    "ave_rs    = np.array([ave_top_r[:], ave_mid_r[:], ave_bot_r[:], ave_r[:], ave_min_r[:]])\n",
    "std_rs    = np.array([std_top_r[:], std_mid_r[:], std_bot_r[:], std_r[:], std_min_r[:]])\n",
    "\n",
    "plotMeanStdEBInverse(types, ave_zs, std_zs, ylabel = 'z (nm)', title = 'Vertical position in barrel', legend = seqNames, xlabel = 'type', hline = -43)\n",
    "plotMeanStdEBInverse(types, ave_rs, std_rs, ylabel = 'r (nm)', title = 'Radial position in barrel', legend = seqNames, xlabel = 'type')\n",
    "plotMeanStdEBInverse(types, std_zs, std_zs*0, ylabel = 'std(z) (nm)', title = 'Std Vertical position in barrel', legend = seqNames, xlabel = 'type')\n",
    "plotMeanStdEBInverse(types, std_rs, std_rs*0, ylabel = 'std(r) (nm)', title = 'Std Radial position in barrel', legend = seqNames, xlabel = 'type')\n",
    "\n",
    "plt.figure()\n",
    "plt.plot(seqNames, FracOut, 'o:')\n",
    "plt.ylabel('Outside barrel (%)')\n",
    "plt.title('Fraction of time outside barrel')\n",
    "plt.show()\n",
    "#plotMeanStdEBInverse(teth_lens, 100*FracOut, 0*FracOut, ylabel = 'Outside barrel (%)', title = 'Fraction of time outside barrel', legend = seqNames, xlabel = 'type')\n",
    "#plotMeanStdEBInverse(teth_lens, ave_bonds, std_bonds, ylabel = 'Number of tether bonds', title = 'Bonding on tether', legend = seqNames, xlabel = 'type')"
   ]
  },
  {
   "cell_type": "code",
   "execution_count": 15,
   "metadata": {},
   "outputs": [],
   "source": [
    "c = 0\n",
    "data = np.genfromtxt('cinch' + str(c) + '/outposMD1.dat')\n",
    "nt = getPoreNt(teth_len, numConn = conns[c])\n",
    "free = getPosition(data, getBotNt(teth_len, numConn = conns[c]), 1, 0, 0)\n",
    "\n",
    "c = 5\n",
    "data = np.genfromtxt('cinch' + str(c) + '/outposMD1.dat')\n",
    "nt = getPoreNt(teth_len, numConn = conns[c])\n",
    "cin1 = getPosition(data, getBotNt(teth_len, numConn = conns[c]), 1, 0, 0)\n",
    "\n",
    "c = 4\n",
    "data = np.genfromtxt('cinch' + str(c) + '/outposMD1.dat')\n",
    "nt = getPoreNt(teth_len, numConn = conns[c])\n",
    "cin2 = getPosition(data, getBotNt(teth_len, numConn = conns[c]), 1, 0, 0)\n",
    "\n",
    "c = 6\n",
    "data = np.genfromtxt('cinch' + str(c) + '/outposMD1.dat')\n",
    "nt = getPoreNt(teth_len, numConn = conns[c])\n",
    "cin3 = getPosition(data, getBotNt(teth_len, numConn = conns[c]), 1, 0, 0)"
   ]
  },
  {
   "cell_type": "code",
   "execution_count": 6,
   "metadata": {},
   "outputs": [
    {
     "data": {
      "image/png": "[encoded data removed]",
      "text/plain": [
       "<Figure size 432x288 with 1 Axes>"
      ]
     },
     "metadata": {
      "needs_background": "light"
     },
     "output_type": "display_data"
    },
    {
     "data": {
      "image/png": "[encoded data removed]",
      "text/plain": [
       "<Figure size 432x288 with 1 Axes>"
      ]
     },
     "metadata": {
      "needs_background": "light"
     },
     "output_type": "display_data"
    }
   ],
   "source": [
    "plotPositionHist([free, cin1, cin2, cin3], 'z', title = 'Cinch bottom of pore: z-position', vline = -32, legend = ['free','42,s42','42x2,s0','42,z42'])\n",
    "\n",
    "plotPositionHist([free, cin1, cin2, cin3], 'r', title = 'Cinch bottom of pore: r-position', legend = ['free','42,s42','42x2,s0','42,z42'])"
   ]
  },
  {
   "cell_type": "code",
   "execution_count": 9,
   "metadata": {},
   "outputs": [
    {
     "data": {
      "image/png": "[encoded data removed]",
      "text/plain": [
       "<Figure size 432x288 with 1 Axes>"
      ]
     },
     "metadata": {
      "needs_background": "light"
     },
     "output_type": "display_data"
    }
   ],
   "source": [
    "plt.hist(free[2][1:2000])\n",
    "plt.show()"
   ]
  },
  {
   "cell_type": "code",
   "execution_count": 18,
   "metadata": {},
   "outputs": [
    {
     "data": {
      "image/png": "[encoded data removed]",
      "text/plain": [
       "<Figure size 432x288 with 1 Axes>"
      ]
     },
     "metadata": {
      "needs_background": "light"
     },
     "output_type": "display_data"
    }
   ],
   "source": [
    "plotPositionHist([cin1[:,0:90], cin1[:,90:180], cin1[:,180:]], 'z', title = 'Cinch bottom of pore: z-position', vline = -32, legend = ['1000','2000', '3000'])"
   ]
  },
  {
   "cell_type": "code",
   "execution_count": 19,
   "metadata": {},
   "outputs": [
    {
     "data": {
      "text/plain": [
       "(3, 4868)"
      ]
     },
     "execution_count": 19,
     "metadata": {},
     "output_type": "execute_result"
    }
   ],
   "source": [
    "rMean = [np.mean(cin4[0:i+2]) for i in range(len(cin4))]"
   ]
  },
  {
   "cell_type": "code",
   "execution_count": 13,
   "metadata": {},
   "outputs": [
    {
     "data": {
      "text/plain": [
       "(3, 270)"
      ]
     },
     "execution_count": 13,
     "metadata": {},
     "output_type": "execute_result"
    }
   ],
   "source": [
    "np.shape(cin1)"
   ]
  },
  {
   "cell_type": "code",
   "execution_count": 9,
   "metadata": {},
   "outputs": [],
   "source": [
    "c = 0\n",
    "data = np.genfromtxt('cinch' + str(c) + '/outposMD4.dat')\n",
    "nt = getPoreNt(teth_len, numConn = conns[c])\n",
    "mc = getPosition(data, getBotNt(teth_len, numConn = conns[c]), 1, 0, 0)\n",
    "\n",
    "data = np.genfromtxt('cinch' + str(c) + '/outposMD1.dat')\n",
    "nt = getPoreNt(teth_len, numConn = conns[c])\n",
    "md = getPosition(data, getBotNt(teth_len, numConn = conns[c]), 1, 0, 0)\n",
    "\n",
    "data = np.genfromtxt('cinch' + str(c) + '/outposMD3.dat')\n",
    "nt = getPoreNt(teth_len, numConn = conns[c])\n",
    "vm = getPosition(data, getBotNt(teth_len, numConn = conns[c]), 1, 0, 0)"
   ]
  },
  {
   "cell_type": "code",
   "execution_count": 10,
   "metadata": {},
   "outputs": [
    {
     "data": {
      "image/png": "[encoded data removed]",
      "text/plain": [
       "<Figure size 432x288 with 1 Axes>"
      ]
     },
     "metadata": {
      "needs_background": "light"
     },
     "output_type": "display_data"
    }
   ],
   "source": [
    "plotPositionHist([mc[:,0:], md[:,0:], vm[:,0:]], 'z', title = 'Cinch bottom of pore: z-position', vline = -32, legend = ['mc','md','vm'])"
   ]
  },
  {
   "cell_type": "code",
   "execution_count": 3,
   "metadata": {},
   "outputs": [
    {
     "ename": "NameError",
     "evalue": "name 'vm' is not defined",
     "output_type": "error",
     "traceback": [
      "\u001b[0;31m---------------------------------------------------------------------------\u001b[0m",
      "\u001b[0;31mNameError\u001b[0m                                 Traceback (most recent call last)",
      "\u001b[0;32m<ipython-input-3-11ab931a5fd5>\u001b[0m in \u001b[0;36m<module>\u001b[0;34m\u001b[0m\n\u001b[0;32m----> 1\u001b[0;31m \u001b[0mnp\u001b[0m\u001b[0;34m.\u001b[0m\u001b[0mshape\u001b[0m\u001b[0;34m(\u001b[0m\u001b[0mvm\u001b[0m\u001b[0;34m[\u001b[0m\u001b[0;34m:\u001b[0m\u001b[0;34m,\u001b[0m\u001b[0;36m0\u001b[0m\u001b[0;34m:\u001b[0m\u001b[0;36m5\u001b[0m\u001b[0;34m]\u001b[0m\u001b[0;34m)\u001b[0m\u001b[0;34m\u001b[0m\u001b[0;34m\u001b[0m\u001b[0m\n\u001b[0m",
      "\u001b[0;31mNameError\u001b[0m: name 'vm' is not defined"
     ]
    }
   ],
   "source": [
    "np.shape(vm[:,0:5])"
   ]
  },
  {
   "cell_type": "code",
   "execution_count": null,
   "metadata": {},
   "outputs": [],
   "source": []
  }
 ],
 "metadata": {
  "anaconda-cloud": {},
  "kernelspec": {
   "display_name": "Python 3",
   "language": "python",
   "name": "python3"
  },
  "language_info": {
   "codemirror_mode": {
    "name": "ipython",
    "version": 3
   },
   "file_extension": ".py",
   "mimetype": "text/x-python",
   "name": "python",
   "nbconvert_exporter": "python",
   "pygments_lexer": "ipython3",
   "version": "3.8.10"
  }
 },
 "nbformat": 4,
 "nbformat_minor": 1
}
